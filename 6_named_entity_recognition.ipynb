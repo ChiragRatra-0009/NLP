{
 "cells": [
  {
   "cell_type": "code",
   "execution_count": 5,
   "id": "1e4a3280",
   "metadata": {},
   "outputs": [],
   "source": [
    "sentence=\"The Eiffel Tower was built from 1887 to 1889 by French engineer Gustave Eiffel, whose company specialized in building metal frameworks and structures.\"\n",
    "\n"
   ]
  },
  {
   "cell_type": "code",
   "execution_count": 24,
   "id": "5f7d3186",
   "metadata": {},
   "outputs": [
    {
     "name": "stderr",
     "output_type": "stream",
     "text": [
      "[nltk_data] Downloading package words to C:\\Users\\Chirag\n",
      "[nltk_data]     Ratra\\AppData\\Roaming\\nltk_data...\n",
      "[nltk_data]   Package words is already up-to-date!\n",
      "[nltk_data] Downloading package maxent_ne_chunker_tab to\n",
      "[nltk_data]     C:\\Users\\Chirag Ratra\\AppData\\Roaming\\nltk_data...\n",
      "[nltk_data]   Package maxent_ne_chunker_tab is already up-to-date!\n",
      "[nltk_data] Downloading package averaged_perceptron_tagger_eng to\n",
      "[nltk_data]     C:\\Users\\Chirag Ratra\\AppData\\Roaming\\nltk_data...\n",
      "[nltk_data]   Package averaged_perceptron_tagger_eng is already up-to-\n",
      "[nltk_data]       date!\n"
     ]
    }
   ],
   "source": [
    "%%capture\n",
    "\n",
    "nltk.download('words')\n",
    "nltk.download('maxent_ne_chunker_tab')\n",
    "nltk.download('averaged_perceptron_tagger_eng')"
   ]
  },
  {
   "cell_type": "code",
   "execution_count": null,
   "id": "b73add3a",
   "metadata": {},
   "outputs": [],
   "source": [
    "\n",
    "import nltk;\n",
    "from nltk.tokenize import word_tokenize;\n",
    "from nltk.tokenize import sent_tokenize;\n",
    "from nltk.stem import WordNetLemmatizer;\n",
    "\n",
    "wordNetLemmatizer=WordNetLemmatizer()\n",
    "tag_elements=nltk.pos_tag(word_tokenize(sentence))\n",
    "nltk.ne_chunk(tag_elements).pprint()"
   ]
  },
  {
   "cell_type": "code",
   "execution_count": 28,
   "id": "6d98b9cf",
   "metadata": {},
   "outputs": [],
   "source": [
    "tag_elements = nltk.pos_tag(word_tokenize('My name is Chirag, living in faridabad'))\n",
    "nltk.ne_chunk(tag_elements).draw()"
   ]
  }
 ],
 "metadata": {
  "kernelspec": {
   "display_name": ".venv",
   "language": "python",
   "name": "python3"
  },
  "language_info": {
   "codemirror_mode": {
    "name": "ipython",
    "version": 3
   },
   "file_extension": ".py",
   "mimetype": "text/x-python",
   "name": "python",
   "nbconvert_exporter": "python",
   "pygments_lexer": "ipython3",
   "version": "3.13.3"
  }
 },
 "nbformat": 4,
 "nbformat_minor": 5
}
