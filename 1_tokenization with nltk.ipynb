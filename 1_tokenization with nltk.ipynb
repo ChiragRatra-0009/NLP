{
 "cells": [
  {
   "cell_type": "code",
   "execution_count": 25,
   "id": "95cce034",
   "metadata": {},
   "outputs": [
    {
     "name": "stdout",
     "output_type": "stream",
     "text": [
      "Requirement already satisfied: nltk in d:\\learning\\python\\.venv\\lib\\site-packages (3.9.1)\n",
      "Requirement already satisfied: click in d:\\learning\\python\\.venv\\lib\\site-packages (from nltk) (8.1.8)\n",
      "Requirement already satisfied: joblib in d:\\learning\\python\\.venv\\lib\\site-packages (from nltk) (1.4.2)\n",
      "Requirement already satisfied: regex>=2021.8.3 in d:\\learning\\python\\.venv\\lib\\site-packages (from nltk) (2024.11.6)\n",
      "Requirement already satisfied: tqdm in d:\\learning\\python\\.venv\\lib\\site-packages (from nltk) (4.67.1)\n",
      "Requirement already satisfied: colorama in d:\\learning\\python\\.venv\\lib\\site-packages (from click->nltk) (0.4.6)\n",
      "Note: you may need to restart the kernel to use updated packages.\n"
     ]
    },
    {
     "name": "stderr",
     "output_type": "stream",
     "text": [
      "[nltk_data] Downloading package punkt to C:\\Users\\Chirag\n",
      "[nltk_data]     Ratra\\AppData\\Roaming\\nltk_data...\n",
      "[nltk_data]   Package punkt is already up-to-date!\n"
     ]
    },
    {
     "data": {
      "text/plain": [
       "True"
      ]
     },
     "execution_count": 25,
     "metadata": {},
     "output_type": "execute_result"
    }
   ],
   "source": [
    "%pip install nltk;\n",
    "\n",
    "import nltk\n",
    "nltk.download('punkt')"
   ]
  },
  {
   "cell_type": "code",
   "execution_count": 26,
   "id": "9f34253a",
   "metadata": {},
   "outputs": [],
   "source": [
    "corpus = \"\"\" Hello Welcome, to NLP tutorials. \n",
    "Please follow with consistency to become NLP expert \"\"\""
   ]
  },
  {
   "cell_type": "code",
   "execution_count": 27,
   "id": "8bf3f6be",
   "metadata": {},
   "outputs": [
    {
     "name": "stdout",
     "output_type": "stream",
     "text": [
      "[\"Hello, welcome to NLP tutorials with Chirag Ratra's classes.\", 'Please follow!', 'with consistency to become an NLP expert.']\n"
     ]
    }
   ],
   "source": [
    "## TOKENIZATION WITH sent_tokenize\n",
    "## SENTENCE ==> PARAGRAPH\n",
    "\n",
    "from nltk.tokenize import sent_tokenize\n",
    "\n",
    "corpus = \"\"\"Hello, welcome to NLP tutorials with Chirag Ratra's classes. Please follow! with consistency to become an NLP expert.\"\"\"\n",
    "documents = sent_tokenize(corpus) #sentence tokenization\n",
    "print(documents)"
   ]
  },
  {
   "cell_type": "code",
   "execution_count": 28,
   "id": "a7c58bbb",
   "metadata": {},
   "outputs": [
    {
     "name": "stdout",
     "output_type": "stream",
     "text": [
      "['Hello', ',', 'welcome', 'to', 'NLP', 'tutorials', 'with', 'Chirag', 'Ratra', \"'s\", 'classes', '.', 'Please', 'follow', '!', 'with', 'consistency', 'to', 'become', 'an', 'NLP', 'expert', '.']\n"
     ]
    }
   ],
   "source": [
    "## TOKENIZATION WITH word_tokenize\n",
    "## WORDS ==> CORPUS \n",
    "\n",
    "from nltk.tokenize import word_tokenize\n",
    "words = word_tokenize(corpus)\n",
    "print(words)"
   ]
  },
  {
   "cell_type": "code",
   "execution_count": 29,
   "id": "550b66cf",
   "metadata": {},
   "outputs": [
    {
     "name": "stdout",
     "output_type": "stream",
     "text": [
      "['Hello', ',', 'welcome', 'to', 'NLP', 'tutorials', 'with', 'Chirag', 'Ratra', \"'s\", 'classes', '.']\n",
      "['Please', 'follow', '!']\n",
      "['with', 'consistency', 'to', 'become', 'an', 'NLP', 'expert', '.']\n"
     ]
    }
   ],
   "source": [
    "## TOKENIZATION\n",
    "## WORDS ==> DOCUMENTS\n",
    "for sentence in documents:\n",
    "    print(word_tokenize(sentence))"
   ]
  },
  {
   "cell_type": "code",
   "execution_count": 30,
   "id": "9e045ba6",
   "metadata": {},
   "outputs": [
    {
     "name": "stdout",
     "output_type": "stream",
     "text": [
      "['Hello', ',', 'welcome', 'to', 'NLP', 'tutorials', 'with', 'Chirag', 'Ratra', \"'\", 's', 'classes', '.', 'Please', 'follow', '!', 'with', 'consistency', 'to', 'become', 'an', 'NLP', 'expert', '.']\n"
     ]
    }
   ],
   "source": [
    "## TOKENIZATION WITH wordpunct_tokenize   \n",
    "## => this split words from punctuations as well, like punctuations are stopword\n",
    "## ## WORDS ==> COPRUS \n",
    "\n",
    "from nltk.tokenize import wordpunct_tokenize\n",
    "print(wordpunct_tokenize(corpus))"
   ]
  },
  {
   "cell_type": "code",
   "execution_count": 31,
   "id": "cbba63f2",
   "metadata": {},
   "outputs": [
    {
     "name": "stdout",
     "output_type": "stream",
     "text": [
      "['Hello', ',', 'welcome', 'to', 'NLP', 'tutorials', 'with', 'Chirag', 'Ratra', \"'s\", 'classes.', 'Please', 'follow', '!', 'with', 'consistency', 'to', 'become', 'an', 'NLP', 'expert', '.']\n"
     ]
    }
   ],
   "source": [
    "## TOKENIZATION WITH TreebankWordTokenizer   \n",
    "## (FULL STOP WONT BE CONSIDERED AS SEPARATE KEYWORD EXCEPT LAST)\n",
    "## SENTENCE ==> PARAGRAPH\n",
    "from nltk.tokenize import TreebankWordTokenizer\n",
    "\n",
    "tokenizer =  TreebankWordTokenizer()\n",
    "print(tokenizer.tokenize(corpus))\n",
    "\n"
   ]
  },
  {
   "cell_type": "code",
   "execution_count": null,
   "id": "c6f84466",
   "metadata": {},
   "outputs": [],
   "source": []
  }
 ],
 "metadata": {
  "kernelspec": {
   "display_name": ".venv",
   "language": "python",
   "name": "python3"
  },
  "language_info": {
   "codemirror_mode": {
    "name": "ipython",
    "version": 3
   },
   "file_extension": ".py",
   "mimetype": "text/x-python",
   "name": "python",
   "nbconvert_exporter": "python",
   "pygments_lexer": "ipython3",
   "version": "3.13.3"
  }
 },
 "nbformat": 4,
 "nbformat_minor": 5
}
