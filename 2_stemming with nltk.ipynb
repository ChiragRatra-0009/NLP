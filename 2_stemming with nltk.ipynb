{
 "cells": [
  {
   "cell_type": "code",
   "execution_count": 5,
   "id": "35227d9c",
   "metadata": {},
   "outputs": [],
   "source": [
    "%%capture\n",
    "%pip install nltk"
   ]
  },
  {
   "cell_type": "code",
   "execution_count": 2,
   "id": "97a6d5d3",
   "metadata": {},
   "outputs": [],
   "source": [
    "words=[\"eating\",\"eats\",\"eaten\",\"writing\",\"writes\",\"programming\",\"programs\",\"history\",\"finally\",\"finalized\"]"
   ]
  },
  {
   "cell_type": "markdown",
   "id": "c7c83b55",
   "metadata": {},
   "source": [
    "Import Porter Stemmer"
   ]
  },
  {
   "cell_type": "code",
   "execution_count": null,
   "id": "ad42e26c",
   "metadata": {},
   "outputs": [
    {
     "name": "stdout",
     "output_type": "stream",
     "text": [
      "eating ====> eat\n",
      "eats ====> eat\n",
      "eaten ====> eaten\n",
      "writing ====> write\n",
      "writes ====> write\n",
      "programming ====> program\n",
      "programs ====> program\n",
      "history ====> histori\n",
      "finally ====> final\n",
      "finalized ====> final\n"
     ]
    }
   ],
   "source": [
    "from nltk.stem import PorterStemmer\n",
    "porterStemmer=PorterStemmer()\n",
    "for word in words:\n",
    "    print(word + \" ====> \" + porterStemmer.stem(word))"
   ]
  },
  {
   "cell_type": "markdown",
   "id": "5733e615",
   "metadata": {},
   "source": [
    "Import Regexp Stemmer"
   ]
  },
  {
   "cell_type": "code",
   "execution_count": 19,
   "id": "c0272225",
   "metadata": {},
   "outputs": [
    {
     "name": "stdout",
     "output_type": "stream",
     "text": [
      "eating ====> eat\n",
      "eats ====> eat\n",
      "eaten ====> eaten\n",
      "writing ====> writ\n",
      "writes ====> write\n",
      "programming ====> programm\n",
      "programs ====> program\n",
      "history ====> history\n",
      "finally ====> finally\n",
      "finalized ====> finalized\n"
     ]
    }
   ],
   "source": [
    "from nltk.stem import RegexpStemmer\n",
    "regexStemmer = RegexpStemmer(\"ing$|s$|e$|able$\",4)\n",
    "\n",
    "for word in words:\n",
    "    print(word + \" ====> \" +  regexStemmer.stem(word))\n"
   ]
  },
  {
   "cell_type": "markdown",
   "id": "b302824a",
   "metadata": {},
   "source": [
    "Import Snowball Stemmer"
   ]
  },
  {
   "cell_type": "code",
   "execution_count": 41,
   "id": "b7af9b79",
   "metadata": {},
   "outputs": [
    {
     "name": "stdout",
     "output_type": "stream",
     "text": [
      "eating ====> eat\n",
      "eats ====> eat\n",
      "eaten ====> eaten\n",
      "writing ====> write\n",
      "writes ====> write\n",
      "programming ====> program\n",
      "programs ====> program\n",
      "history ====> histori\n",
      "finally ====> final\n",
      "finalized ====> final\n",
      "\n",
      " ***IMPORTANT*** \n",
      "\n",
      "fairli sportingli goe\n",
      "fair sport goe\n"
     ]
    }
   ],
   "source": [
    "from nltk.stem import SnowballStemmer\n",
    "\n",
    "snowballStemmer = SnowballStemmer('english')\n",
    "for word in words:\n",
    "    print(word + \" ====> \" + snowballStemmer.stem(word))\n",
    "\n",
    "print(\"\\n ***IMPORTANT*** \\n\")\n",
    "print(porterStemmer.stem(\"fairly\"),porterStemmer.stem(\"sportingly\"),porterStemmer.stem('goes'))\n",
    "print(snowballStemmer.stem(\"fairly\"),snowballStemmer.stem(\"sportingly\"),snowballStemmer.stem('goes'))"
   ]
  },
  {
   "cell_type": "code",
   "execution_count": null,
   "id": "f19ac30f",
   "metadata": {},
   "outputs": [],
   "source": []
  },
  {
   "cell_type": "code",
   "execution_count": null,
   "id": "6771b489",
   "metadata": {},
   "outputs": [],
   "source": []
  }
 ],
 "metadata": {
  "kernelspec": {
   "display_name": ".venv",
   "language": "python",
   "name": "python3"
  },
  "language_info": {
   "codemirror_mode": {
    "name": "ipython",
    "version": 3
   },
   "file_extension": ".py",
   "mimetype": "text/x-python",
   "name": "python",
   "nbconvert_exporter": "python",
   "pygments_lexer": "ipython3",
   "version": "3.13.3"
  }
 },
 "nbformat": 4,
 "nbformat_minor": 5
}
