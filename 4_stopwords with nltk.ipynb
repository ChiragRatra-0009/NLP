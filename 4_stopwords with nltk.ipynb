{
 "cells": [
  {
   "cell_type": "code",
   "execution_count": 5,
   "id": "1371e7cb",
   "metadata": {},
   "outputs": [
    {
     "name": "stderr",
     "output_type": "stream",
     "text": [
      "[nltk_data] Downloading package stopwords to C:\\Users\\Chirag\n",
      "[nltk_data]     Ratra\\AppData\\Roaming\\nltk_data...\n",
      "[nltk_data]   Unzipping corpora\\stopwords.zip.\n"
     ]
    },
    {
     "data": {
      "text/plain": [
       "True"
      ]
     },
     "execution_count": 5,
     "metadata": {},
     "output_type": "execute_result"
    }
   ],
   "source": [
    "import nltk;\n",
    "from nltk.stem import PorterStemmer;\n",
    "from nltk.corpus import stopwords;\n",
    "\n",
    "nltk.download('stopwords')"
   ]
  },
  {
   "cell_type": "code",
   "execution_count": 3,
   "id": "0f60b5a9",
   "metadata": {},
   "outputs": [],
   "source": [
    "words=[\"eating\",\"eats\",\"eaten\",\"writing\",\"writes\",\"programming\",\"programs\",\"history\",\"finally\",\"finalized\"]"
   ]
  },
  {
   "cell_type": "code",
   "execution_count": 7,
   "id": "afd817b8",
   "metadata": {},
   "outputs": [],
   "source": [
    "%%capture\n",
    "stopwords.words('english')"
   ]
  },
  {
   "cell_type": "code",
   "execution_count": 2,
   "id": "818ba36a",
   "metadata": {},
   "outputs": [],
   "source": [
    "paragraph = \"\"\"I have three visions for India. In 3000 years of our history, people from all over \n",
    "               the world have come and invaded us, captured our lands, conquered our minds. \n",
    "               From Alexander onwards, the Greeks, the Turks, the Moguls, the Portuguese, the British,\n",
    "               the French, the Dutch, all of them came and looted us, took over what was ours. \n",
    "               Yet we have not done this to any other nation. We have not conquered anyone. \n",
    "               We have not grabbed their land, their culture, \n",
    "               their history and tried to enforce our way of life on them. \n",
    "               Why? Because we respect the freedom of others.That is why my \n",
    "               first vision is that of freedom. I believe that India got its first vision of \n",
    "               this in 1857, when we started the War of Independence. It is this freedom that\n",
    "               we must protect and nurture and build on. If we are not free, no one will respect us.\n",
    "               My second vision for India’s development. For fifty years we have been a developing nation.\n",
    "               It is time we see ourselves as a developed nation. We are among the top 5 nations of the world\n",
    "               in terms of GDP. We have a 10 percent growth rate in most areas. Our poverty levels are falling.\n",
    "               Our achievements are being globally recognised today. Yet we lack the self-confidence to\n",
    "               see ourselves as a developed nation, self-reliant and self-assured. Isn’t this incorrect?\n",
    "               I have a third vision. India must stand up to the world. Because I believe that unless India \n",
    "               stands up to the world, no one will respect us. Only strength respects strength. We must be \n",
    "               strong not only as a military power but also as an economic power. Both must go hand-in-hand. \n",
    "               My good fortune was to have worked with three great minds. Dr. Vikram Sarabhai of the Dept. of \n",
    "               space, Professor Satish Dhawan, who succeeded him and Dr. Brahm Prakash, father of nuclear material.\n",
    "               I was lucky to have worked with all three of them closely and consider this the great opportunity of my life. \n",
    "               I see four milestones in my career\"\"\""
   ]
  },
  {
   "cell_type": "code",
   "execution_count": 3,
   "id": "f096fbf0",
   "metadata": {},
   "outputs": [],
   "source": [
    "from nltk.corpus import stopwords\n",
    "from nltk.tokenize import sent_tokenize\n",
    "from nltk.tokenize import word_tokenize\n",
    "\n",
    "sentences = sent_tokenize(paragraph)\n"
   ]
  },
  {
   "cell_type": "code",
   "execution_count": 4,
   "id": "4e492c59",
   "metadata": {},
   "outputs": [
    {
     "name": "stdout",
     "output_type": "stream",
     "text": [
      "i three vision india .\n",
      "in 3000 year histori , peopl world come invad us , captur land , conquer mind .\n",
      "from alexand onward , greek , turk , mogul , portugues , british , french , dutch , came loot us , took .\n",
      "yet done nation .\n",
      "we conquer anyon .\n",
      "we grab land , cultur , histori tri enforc way life .\n",
      "whi ?\n",
      "becaus respect freedom others.that first vision freedom .\n",
      "i believ india got first vision 1857 , start war independ .\n",
      "it freedom must protect nurtur build .\n",
      "if free , one respect us .\n",
      "my second vision india ’ develop .\n",
      "for fifti year develop nation .\n",
      "it time see develop nation .\n",
      "we among top 5 nation world term gdp .\n",
      "we 10 percent growth rate area .\n",
      "our poverti level fall .\n",
      "our achiev global recognis today .\n",
      "yet lack self-confid see develop nation , self-reli self-assur .\n",
      "isn ’ incorrect ?\n",
      "i third vision .\n",
      "india must stand world .\n",
      "becaus i believ unless india stand world , one respect us .\n",
      "onli strength respect strength .\n",
      "we must strong militari power also econom power .\n",
      "both must go hand-in-hand .\n",
      "my good fortun work three great mind .\n",
      "dr. vikram sarabhai dept .\n",
      "space , professor satish dhawan , succeed dr. brahm prakash , father nuclear materi .\n",
      "i lucki work three close consid great opportun life .\n",
      "i see four mileston career\n"
     ]
    }
   ],
   "source": [
    "from nltk.stem import PorterStemmer\n",
    "\n",
    "porterStemmer=PorterStemmer()\n",
    "\n",
    "for sentence in sentences:\n",
    "    words = word_tokenize(sentence)\n",
    "    words = [porterStemmer.stem(word) for word in words if word not in set(stopwords.words('english'))]\n",
    "    print(' '.join(words))"
   ]
  },
  {
   "cell_type": "code",
   "execution_count": 26,
   "id": "cadf6782",
   "metadata": {},
   "outputs": [
    {
     "name": "stdout",
     "output_type": "stream",
     "text": [
      "I three vision India .\n",
      "In 3000 year history , people world come invaded u , captured land , conquered mind .\n",
      "From Alexander onwards , Greeks , Turks , Moguls , Portuguese , British , French , Dutch , came looted u , took .\n",
      "Yet done nation .\n",
      "We conquered anyone .\n",
      "We grabbed land , culture , history tried enforce way life .\n",
      "Why ?\n",
      "Because respect freedom others.That first vision freedom .\n",
      "I believe India got first vision 1857 , started War Independence .\n",
      "It freedom must protect nurture build .\n",
      "If free , one respect u .\n",
      "My second vision India ’ development .\n",
      "For fifty year developing nation .\n",
      "It time see developed nation .\n",
      "We among top 5 nation world term GDP .\n",
      "We 10 percent growth rate area .\n",
      "Our poverty level falling .\n",
      "Our achievement globally recognised today .\n",
      "Yet lack self-confidence see developed nation , self-reliant self-assured .\n",
      "Isn ’ incorrect ?\n",
      "I third vision .\n",
      "India must stand world .\n",
      "Because I believe unless India stand world , one respect u .\n",
      "Only strength respect strength .\n",
      "We must strong military power also economic power .\n",
      "Both must go hand-in-hand .\n",
      "My good fortune worked three great mind .\n",
      "Dr. Vikram Sarabhai Dept .\n",
      "space , Professor Satish Dhawan , succeeded Dr. Brahm Prakash , father nuclear material .\n",
      "I lucky worked three closely consider great opportunity life .\n",
      "I see four milestone career\n"
     ]
    }
   ],
   "source": [
    "from nltk.stem import WordNetLemmatizer\n",
    "wordNetLemmatizer=WordNetLemmatizer()\n",
    "\n",
    "for sentence in sentences:\n",
    "    words = word_tokenize(sentence)\n",
    "    words = [wordNetLemmatizer.lemmatize(word) for word in words if word not in set(stopwords.words('english'))]\n",
    "    print(' '.join(words))"
   ]
  },
  {
   "cell_type": "code",
   "execution_count": 27,
   "id": "3f1463d8",
   "metadata": {},
   "outputs": [
    {
     "name": "stdout",
     "output_type": "stream",
     "text": [
      "I three visions India .\n",
      "In 3000 years history , people world come invade us , capture land , conquer mind .\n",
      "From Alexander onwards , Greeks , Turks , Moguls , Portuguese , British , French , Dutch , come loot us , take .\n",
      "Yet do nation .\n",
      "We conquer anyone .\n",
      "We grab land , culture , history try enforce way life .\n",
      "Why ?\n",
      "Because respect freedom others.That first vision freedom .\n",
      "I believe India get first vision 1857 , start War Independence .\n",
      "It freedom must protect nurture build .\n",
      "If free , one respect us .\n",
      "My second vision India ’ development .\n",
      "For fifty years develop nation .\n",
      "It time see develop nation .\n",
      "We among top 5 nations world term GDP .\n",
      "We 10 percent growth rate areas .\n",
      "Our poverty level fall .\n",
      "Our achievements globally recognise today .\n",
      "Yet lack self-confidence see develop nation , self-reliant self-assured .\n",
      "Isn ’ incorrect ?\n",
      "I third vision .\n",
      "India must stand world .\n",
      "Because I believe unless India stand world , one respect us .\n",
      "Only strength respect strength .\n",
      "We must strong military power also economic power .\n",
      "Both must go hand-in-hand .\n",
      "My good fortune work three great mind .\n",
      "Dr. Vikram Sarabhai Dept .\n",
      "space , Professor Satish Dhawan , succeed Dr. Brahm Prakash , father nuclear material .\n",
      "I lucky work three closely consider great opportunity life .\n",
      "I see four milestones career\n"
     ]
    }
   ],
   "source": [
    "from nltk.stem import WordNetLemmatizer\n",
    "wordNetLemmatizer=WordNetLemmatizer()\n",
    "\n",
    "for sentence in sentences:\n",
    "    words = word_tokenize(sentence)\n",
    "    words = [wordNetLemmatizer.lemmatize(word,pos=\"v\") for word in words if word not in set(stopwords.words('english'))]\n",
    "    print(' '.join(words))"
   ]
  },
  {
   "cell_type": "code",
   "execution_count": 68,
   "id": "c3683054",
   "metadata": {},
   "outputs": [
    {
     "data": {
      "text/plain": [
       "'worst'"
      ]
     },
     "execution_count": 68,
     "metadata": {},
     "output_type": "execute_result"
    }
   ],
   "source": [
    "from nltk.stem import WordNetLemmatizer\n",
    "wordNetLemmatizer=WordNetLemmatizer()\n",
    "sentences =['My name is chirag. Chirag is good ', 'chirag is playing football', 'Chirag is better then others', 'chirag works in multiple organizations and he recieves bouquet']\n",
    "for sentence in sentences:\n",
    "    words = word_tokenize(sentence)\n",
    "    words = [wordNetLemmatizer.lemmatize(word,pos=\"v\") for word in words if word not in set(stopwords.words('english'))]\n",
    "    # print(' '.join(words))\n",
    "\n",
    "wordNetLemmatizer.lemmatize('worst','r')"
   ]
  }
 ],
 "metadata": {
  "kernelspec": {
   "display_name": ".venv",
   "language": "python",
   "name": "python3"
  },
  "language_info": {
   "codemirror_mode": {
    "name": "ipython",
    "version": 3
   },
   "file_extension": ".py",
   "mimetype": "text/x-python",
   "name": "python",
   "nbconvert_exporter": "python",
   "pygments_lexer": "ipython3",
   "version": "3.13.3"
  }
 },
 "nbformat": 4,
 "nbformat_minor": 5
}
