{
 "cells": [
  {
   "cell_type": "code",
   "execution_count": 15,
   "id": "bd47f6a1",
   "metadata": {},
   "outputs": [
    {
     "name": "stderr",
     "output_type": "stream",
     "text": [
      "[nltk_data] Downloading package wordnet to C:\\Users\\Chirag\n",
      "[nltk_data]     Ratra\\AppData\\Roaming\\nltk_data...\n"
     ]
    }
   ],
   "source": [
    "%%capture\n",
    "%pip install nltk\n",
    "nltk.download('wordnet')"
   ]
  },
  {
   "cell_type": "code",
   "execution_count": 42,
   "id": "2e83aecd",
   "metadata": {},
   "outputs": [],
   "source": [
    "words=[\"quickly\",\"eating\",\"eats\",\"eaten\",\"writing\",\"writes\",\"programming\",\"programs\",\"history\",\"finally\",\"finalized\",\"Amazon\"]"
   ]
  },
  {
   "cell_type": "code",
   "execution_count": 43,
   "id": "ccae89e2",
   "metadata": {},
   "outputs": [
    {
     "name": "stdout",
     "output_type": "stream",
     "text": [
      "quickly \n",
      "  VERB :  quickly\n",
      "  NOUN:  quickly\n",
      "  ADVERB:  quickly\n",
      "  ADJECTIVE:  quickly\n",
      "eating \n",
      "  VERB :  eat\n",
      "  NOUN:  eating\n",
      "  ADVERB:  eating\n",
      "  ADJECTIVE:  eating\n",
      "eats \n",
      "  VERB :  eat\n",
      "  NOUN:  eats\n",
      "  ADVERB:  eats\n",
      "  ADJECTIVE:  eats\n",
      "eaten \n",
      "  VERB :  eat\n",
      "  NOUN:  eaten\n",
      "  ADVERB:  eaten\n",
      "  ADJECTIVE:  eaten\n",
      "writing \n",
      "  VERB :  write\n",
      "  NOUN:  writing\n",
      "  ADVERB:  writing\n",
      "  ADJECTIVE:  writing\n",
      "writes \n",
      "  VERB :  write\n",
      "  NOUN:  writes\n",
      "  ADVERB:  writes\n",
      "  ADJECTIVE:  writes\n",
      "programming \n",
      "  VERB :  program\n",
      "  NOUN:  programming\n",
      "  ADVERB:  programming\n",
      "  ADJECTIVE:  programming\n",
      "programs \n",
      "  VERB :  program\n",
      "  NOUN:  program\n",
      "  ADVERB:  programs\n",
      "  ADJECTIVE:  programs\n",
      "history \n",
      "  VERB :  history\n",
      "  NOUN:  history\n",
      "  ADVERB:  history\n",
      "  ADJECTIVE:  history\n",
      "finally \n",
      "  VERB :  finally\n",
      "  NOUN:  finally\n",
      "  ADVERB:  finally\n",
      "  ADJECTIVE:  finally\n",
      "finalized \n",
      "  VERB :  finalize\n",
      "  NOUN:  finalized\n",
      "  ADVERB:  finalized\n",
      "  ADJECTIVE:  finalized\n",
      "Amazon \n",
      "  VERB :  Amazon\n",
      "  NOUN:  Amazon\n",
      "  ADVERB:  Amazon\n",
      "  ADJECTIVE:  Amazon\n"
     ]
    }
   ],
   "source": [
    "from nltk.stem import WordNetLemmatizer\n",
    "\n",
    "wordNetLemmatizer=WordNetLemmatizer()\n",
    "\n",
    "for word in words:\n",
    "    print(word + \" \\n  VERB :  \"+wordNetLemmatizer.lemmatize(word,pos='v') \n",
    "          + \"\\n  NOUN:  \" +wordNetLemmatizer.lemmatize(word,pos='n')\n",
    "          + \"\\n  ADVERB:  \" +wordNetLemmatizer.lemmatize(word,pos='r')\n",
    "          + \"\\n  ADJECTIVE:  \" +wordNetLemmatizer.lemmatize(word,pos='a'))\n",
    "\n"
   ]
  },
  {
   "cell_type": "code",
   "execution_count": 41,
   "id": "9c225651",
   "metadata": {},
   "outputs": [
    {
     "data": {
      "text/plain": [
       "('fairly', 'sportingly')"
      ]
     },
     "execution_count": 41,
     "metadata": {},
     "output_type": "execute_result"
    }
   ],
   "source": [
    "wordNetLemmatizer.lemmatize(\"fairly\",pos='v'),wordNetLemmatizer.lemmatize(\"sportingly\")"
   ]
  },
  {
   "cell_type": "code",
   "execution_count": 57,
   "id": "43a0a67f",
   "metadata": {},
   "outputs": [
    {
     "name": "stdout",
     "output_type": "stream",
     "text": [
      "software    ==LEMMATIZED==>    software\n",
      "engineer    ==LEMMATIZED==>    engineer\n",
      "in    ==LEMMATIZED==>    in\n",
      "bold    ==LEMMATIZED==>    bold\n"
     ]
    }
   ],
   "source": [
    "for word in \"software engineer in bold\".split():\n",
    "    print(word + \"    ==LEMMATIZED==>    \"+ wordNetLemmatizer.lemmatize(word))"
   ]
  }
 ],
 "metadata": {
  "kernelspec": {
   "display_name": ".venv",
   "language": "python",
   "name": "python3"
  },
  "language_info": {
   "codemirror_mode": {
    "name": "ipython",
    "version": 3
   },
   "file_extension": ".py",
   "mimetype": "text/x-python",
   "name": "python",
   "nbconvert_exporter": "python",
   "pygments_lexer": "ipython3",
   "version": "3.13.3"
  }
 },
 "nbformat": 4,
 "nbformat_minor": 5
}
